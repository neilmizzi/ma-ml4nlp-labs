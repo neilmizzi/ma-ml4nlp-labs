{
 "cells": [
  {
   "cell_type": "markdown",
   "metadata": {},
   "source": [
    "# Introduction\n",
    "\n",
    "The goal of this assignment is to create a basic program that provides an overview of basic evaluation metrics (in particular, precision, recall, f-score and a confusion matrix) from documents provided in the conll format. \n",
    "You will need to implement the calculations for precision, recall and f-score yourself (i.e. do not use an existing module that spits them out). Make sure that your code can handle the situation where there are no true positives for a specific class.\n",
    "\n",
    "This notebook provides functions for reading in conll structures with pandas and proposes a structure for calculating your evaluation metrics and producing the confusion matrix. Feel free to adjust the proposed structure if you see fit."
   ]
  },
  {
   "cell_type": "code",
   "execution_count": 62,
   "metadata": {},
   "outputs": [],
   "source": [
    "import sys\n",
    "import pandas as pd\n",
    "# see tips & tricks on using defaultdict (remove when you do not use it)\n",
    "from collections import defaultdict, Counter\n",
    "import numpy as np\n",
    "# module for verifying output\n",
    "from nose.tools import assert_equal"
   ]
  },
  {
   "cell_type": "markdown",
   "metadata": {},
   "source": [
    "# A note Pandas\n",
    "\n",
    "Pandas is a module that provides data structures and is widely used for dealing with data representations in machine learning. It is a bit more advanced than the csv module we saw in the preprocessing notebook.\n",
    "Working with pandas data structures can be tricky, but it will generally work well if you follow online tutorials and examples closely. If your code is slow before you even started training your models, it is likely to be a problem with the way you are using Pandas (it will still work in most cases, you will just have to wait a bit longer). Once you are more used to working with modules and complex objects, it will also become easier to work with Pandas.\n",
    "\n",
    "In the examples below, we assume that the "
   ]
  },
  {
   "cell_type": "code",
   "execution_count": 63,
   "metadata": {},
   "outputs": [],
   "source": [
    "def extract_annotations(inputfile, annotationcolumn, delimiter='\\t'):\n",
    "    '''\n",
    "    This function extracts annotations represented in the conll format from a file\n",
    "    \n",
    "    :param inputfile: the path to the conll file\n",
    "    :param annotationcolumn: the name of the column in which the target annotation is provided\n",
    "    :param delimiter: optional parameter to overwrite the default delimiter (tab)\n",
    "    :type inputfile: string\n",
    "    :type annotationcolumn: string\n",
    "    :type delimiter: string\n",
    "    :returns: the annotations as a list\n",
    "    '''\n",
    "    #https://pandas.pydata.org/pandas-docs/stable/reference/api/pandas.read_csv.html\n",
    "    conll_input = pd.read_csv(inputfile, sep=delimiter)\n",
    "    annotations = conll_input[annotationcolumn].tolist()\n",
    "    return annotations"
   ]
  },
  {
   "cell_type": "code",
   "execution_count": 64,
   "metadata": {},
   "outputs": [],
   "source": [
    "def obtain_counts(goldannotations, machineannotations):\n",
    "    '''\n",
    "    This function compares the gold annotations to machine output\n",
    "    \n",
    "    :param goldannotations: the gold annotations\n",
    "    :param machineannotations: the output annotations of the system in question\n",
    "    :type goldannotations: the type of the object created in extract_annotations\n",
    "    :type machineannotations: the type of the object created in extract_annotations\n",
    "    \n",
    "    :returns: a countainer providing the counts for each predicted and gold class pair\n",
    "    '''\n",
    "    \n",
    "    # TIP on how to get the counts for each class\n",
    "    # https://stackoverflow.com/questions/49393683/how-to-count-items-in-a-nested-dictionary, last accessed 22.10.2020\n",
    "    evaluation_counts = defaultdict(Counter)\n",
    "    assert len(goldannotations) == len(machineannotations)\n",
    "    for i in range(len(goldannotations)):\n",
    "        evaluation_counts[goldannotations[i]][machineannotations[i]] += 1\n",
    "    return evaluation_counts\n",
    "    \n",
    "def calculate_precision_recall_fscore(evaluation_counts):\n",
    "    '''\n",
    "    Calculate precision recall and fscore for each class and return them in a dictionary\n",
    "    \n",
    "    :param evaluation_counts: a container from which you can obtain the true positives, false positives and false negatives for each class\n",
    "    :type evaluation_counts: type of object returned by obtain_counts\n",
    "    \n",
    "    :returns the precision, recall and f-score of each class in a container\n",
    "    '''\n",
    "    \n",
    "    # TIP: you may want to write a separate function that provides an overview of true positives, false positives and false negatives\n",
    "    #      for each class based on the outcome of obtain counts\n",
    "    # YOUR CODE HERE (and remove statement below)\n",
    "    value_dict = defaultdict(Counter)\n",
    "\n",
    "    macro_list_prec = []\n",
    "    macro_list_rec = []\n",
    "    macro_list_fscore = []\n",
    "    macro_count = 0\n",
    "    \n",
    "    for label in evaluation_counts.keys():\n",
    "        # Calculation of TP, FP & FN\n",
    "        TP = evaluation_counts[label][label]\n",
    "        FP = 0\n",
    "        FN = 0\n",
    "        for label_ in evaluation_counts.keys():\n",
    "            if label_ != label:\n",
    "                FP += evaluation_counts[label_][label]\n",
    "                FN += evaluation_counts[label][label_]\n",
    "\n",
    "        # Precision, Recall & F-Score for class 'label'\n",
    "        try:\n",
    "            precis = TP / (TP + FP)\n",
    "        except ZeroDivisionError:\n",
    "            precis = 0\n",
    "        try:\n",
    "            recall = TP / (TP + FN)\n",
    "        except ZeroDivisionError:\n",
    "            recall = 0\n",
    "        try:\n",
    "            FScore = (2 * precis * recall) / (precis + recall)\n",
    "        except ZeroDivisionError:\n",
    "            FScore = 0\n",
    "        \n",
    "        # Assign Precision, Recall, & F-Score according to set structure\n",
    "        value_dict[label]['precision'] = precis\n",
    "        value_dict[label]['recall'] = recall\n",
    "        value_dict[label]['f-score'] = FScore\n",
    "\n",
    "        macro_list_fscore.append(FScore)\n",
    "        macro_list_prec.append(precis)\n",
    "        macro_list_rec.append(recall)\n",
    "        macro_count += 1\n",
    "    \n",
    "    value_dict['macro']['precision'] = sum(macro_list_prec) / float(macro_count)\n",
    "    value_dict['macro']['recall'] = sum(macro_list_rec) / float(macro_count)\n",
    "    value_dict['macro']['f-score'] = sum(macro_list_fscore) / float(macro_count)\n",
    "\n",
    "    return value_dict\n",
    "            \n",
    "\n",
    "def provide_confusion_matrix(evaluation_counts):\n",
    "    '''\n",
    "    Read in the evaluation counts and provide a confusion matrix for each class\n",
    "    \n",
    "    :param evaluation_counts: a container from which you can obtain the true positives, false positives and false negatives for each class\n",
    "    :type evaluation_counts: type of object returned by obtain_counts\n",
    "    \n",
    "    :prints out a confusion matrix\n",
    "    '''\n",
    "    \n",
    "    # TIP: provide_output_tables does something similar, but those tables are assuming one additional nested layer\n",
    "    #      your solution can thus be a simpler version of the one provided in provide_output_tables below\n",
    "    \n",
    "    # YOUR CODE HERE (and remove statement below)\n",
    "    res = pd.DataFrame.from_dict(evaluation_counts).fillna(0)\n",
    "\n",
    "    print(res)\n",
    "    print(res.to_latex())"
   ]
  },
  {
   "cell_type": "code",
   "execution_count": 65,
   "metadata": {},
   "outputs": [],
   "source": [
    "def carry_out_evaluation(gold_annotations, systemfile, systemcolumn, delimiter='\\t'):\n",
    "    '''\n",
    "    Carries out the evaluation process (from input file to calculating relevant scores)\n",
    "    \n",
    "    :param gold_annotations: list of gold annotations\n",
    "    :param systemfile: path to file with system output\n",
    "    :param systemcolumn: indication of column with relevant information\n",
    "    :param delimiter: specification of formatting of file (default delimiter set to '\\t')\n",
    "    \n",
    "    returns evaluation information for this specific system\n",
    "    '''\n",
    "    system_annotations = extract_annotations(systemfile, systemcolumn, delimiter)\n",
    "    evaluation_counts = obtain_counts(gold_annotations, system_annotations)\n",
    "    provide_confusion_matrix(evaluation_counts)\n",
    "    evaluation_outcome = calculate_precision_recall_fscore(evaluation_counts)\n",
    "    \n",
    "    return evaluation_outcome"
   ]
  },
  {
   "cell_type": "code",
   "execution_count": 66,
   "metadata": {},
   "outputs": [],
   "source": [
    "def provide_output_tables(evaluations):\n",
    "    '''\n",
    "    Create tables based on the evaluation of various systems\n",
    "    \n",
    "    :param evaluations: the outcome of evaluating one or more systems\n",
    "    '''\n",
    "    #https:stackoverflow.com/questions/13575090/construct-pandas-dataframe-from-items-in-nested-dictionary\n",
    "    evaluations_pddf = pd.DataFrame.from_dict({(i,j): evaluations[i][j]\n",
    "                                              for i in evaluations.keys()\n",
    "                                              for j in evaluations[i].keys()},\n",
    "                                             orient='index')\n",
    "    print(evaluations_pddf)\n",
    "    print(evaluations_pddf.to_latex())"
   ]
  },
  {
   "cell_type": "code",
   "execution_count": 67,
   "metadata": {},
   "outputs": [],
   "source": [
    "def run_evaluations(goldfile, goldcolumn, systems):\n",
    "    '''\n",
    "    Carry out standard evaluation for one or more system outputs\n",
    "    \n",
    "    :param goldfile: path to file with goldstandard\n",
    "    :param goldcolumn: indicator of column in gold file where gold labels can be found\n",
    "    :param systems: required information to find and process system output\n",
    "    :type goldfile: string\n",
    "    :type goldcolumn: integer\n",
    "    :type systems: list (providing file name, information on tab with system output and system name for each element)\n",
    "    \n",
    "    :returns the evaluations for all systems\n",
    "    '''\n",
    "    evaluations = {}\n",
    "    #not specifying delimiters here, since it corresponds to the default ('\\t')\n",
    "    gold_annotations = extract_annotations(goldfile, goldcolumn)\n",
    "    for system in systems:\n",
    "        sys_evaluation = carry_out_evaluation(gold_annotations, system[0], system[1])\n",
    "        evaluations[system[2]] = sys_evaluation\n",
    "    return evaluations"
   ]
  },
  {
   "cell_type": "markdown",
   "metadata": {},
   "source": [
    "# Checking the overall set-up\n",
    "\n",
    "The functions below illustrate how to run the setup as outlined above using a main function and, later, commandline arguments. This setup will facilitate the transformation to an experimental setup that no longer makes use of notebooks, that you will submit later on. There are also some functions that can be used to test your implementation You can carry out a few small tests yourself with the data provided in the data/ folder."
   ]
  },
  {
   "cell_type": "code",
   "execution_count": 68,
   "metadata": {},
   "outputs": [],
   "source": [
    "def identify_evaluation_value(system, class_label, value_name, evaluations):\n",
    "    '''\n",
    "    Return the outcome of a specific value of the evaluation\n",
    "    \n",
    "    :param system: the name of the system\n",
    "    :param class_label: the name of the class for which the value should be returned\n",
    "    :param value_name: the name of the score that is returned\n",
    "    :param evaluations: the overview of evaluations\n",
    "    \n",
    "    :returns the requested value\n",
    "    '''\n",
    "    return evaluations[system][class_label][value_name]"
   ]
  },
  {
   "cell_type": "code",
   "execution_count": 69,
   "metadata": {},
   "outputs": [],
   "source": [
    "def create_system_information(system_information):\n",
    "    '''\n",
    "    Takes system information in the form that it is passed on through sys.argv or via a settingsfile\n",
    "    and returns a list of elements specifying all the needed information on each system output file to carry out the evaluation.\n",
    "    \n",
    "    :param system_information is the input as from a commandline or an input file\n",
    "    '''\n",
    "    # https://stackoverflow.com/questions/312443/how-do-you-split-a-list-into-evenly-sized-chunks\n",
    "    systems_list = [system_information[i:i + 3] for i in range(0, len(system_information), 3)]\n",
    "    return systems_list"
   ]
  },
  {
   "cell_type": "code",
   "execution_count": 70,
   "metadata": {},
   "outputs": [
    {
     "output_type": "stream",
     "name": "stdout",
     "text": [
      "         O  B-ORG  I-ORG  B-PER  I-PER  B-MISC\nO      8.0    0.0    1.0    0.0    0.0     1.0\nB-ORG  0.0    2.0    0.0    0.0    0.0     0.0\nI-ORG  0.0    0.0    2.0    0.0    0.0     0.0\nB-PER  0.0    0.0    0.0    1.0    0.0     0.0\nI-PER  0.0    0.0    0.0    0.0    1.0     0.0\n\\begin{tabular}{lrrrrrr}\n\\toprule\n{} &    O &  B-ORG &  I-ORG &  B-PER &  I-PER &  B-MISC \\\\\n\\midrule\nO     &  8.0 &    0.0 &    1.0 &    0.0 &    0.0 &     1.0 \\\\\nB-ORG &  0.0 &    2.0 &    0.0 &    0.0 &    0.0 &     0.0 \\\\\nI-ORG &  0.0 &    0.0 &    2.0 &    0.0 &    0.0 &     0.0 \\\\\nB-PER &  0.0 &    0.0 &    0.0 &    1.0 &    0.0 &     0.0 \\\\\nI-PER &  0.0 &    0.0 &    0.0 &    0.0 &    1.0 &     0.0 \\\\\n\\bottomrule\n\\end{tabular}\n\n                precision    recall   f-score\nsystem1 O             0.8  1.000000  0.888889\n        B-ORG         1.0  1.000000  1.000000\n        I-ORG         1.0  0.666667  0.800000\n        B-PER         1.0  1.000000  1.000000\n        I-PER         1.0  1.000000  1.000000\n        B-MISC        0.0  0.000000  0.000000\n        macro         0.8  0.777778  0.781481\n\\begin{tabular}{llrrr}\n\\toprule\n        &       &  precision &    recall &   f-score \\\\\n\\midrule\nsystem1 & O &        0.8 &  1.000000 &  0.888889 \\\\\n        & B-ORG &        1.0 &  1.000000 &  1.000000 \\\\\n        & I-ORG &        1.0 &  0.666667 &  0.800000 \\\\\n        & B-PER &        1.0 &  1.000000 &  1.000000 \\\\\n        & I-PER &        1.0 &  1.000000 &  1.000000 \\\\\n        & B-MISC &        0.0 &  0.000000 &  0.000000 \\\\\n        & macro &        0.8 &  0.777778 &  0.781481 \\\\\n\\bottomrule\n\\end{tabular}\n\n"
     ]
    }
   ],
   "source": [
    "\n",
    "def main(my_args=None):\n",
    "    \n",
    "    if my_args is None:\n",
    "        my_args = sys.argv\n",
    "    \n",
    "    system_info = create_system_information(my_args[2:])\n",
    "    evaluations = run_evaluations(my_args[0], my_args[1], system_info)\n",
    "    provide_output_tables(evaluations)\n",
    "    check_eval = identify_evaluation_value('system1', 'O', 'f-score', evaluations)\n",
    "    #if it does not work, this assert stateme\n",
    "    assert_equal(\"%.3f\" % check_eval,\"0.889\")\n",
    "    \n",
    "\n",
    "# these can come from the commandline using sys.argv for instance\n",
    "my_args = ['../../data/archived_data/minigold.csv','gold','../../data/archived_data/miniout1.csv','NER','system1']\n",
    "main(my_args)"
   ]
  },
  {
   "cell_type": "code",
   "execution_count": 71,
   "metadata": {},
   "outputs": [
    {
     "output_type": "stream",
     "name": "stdout",
     "text": [
      "         O  B-ORG  I-ORG  B-PER  I-PER  B-MISC\nO      8.0    0.0    1.0    0.0    0.0     1.0\nI-ORG  0.0    2.0    2.0    0.0    0.0     0.0\nI-PER  0.0    0.0    0.0    1.0    1.0     0.0\n\\begin{tabular}{lrrrrrr}\n\\toprule\n{} &    O &  B-ORG &  I-ORG &  B-PER &  I-PER &  B-MISC \\\\\n\\midrule\nO     &  8.0 &    0.0 &    1.0 &    0.0 &    0.0 &     1.0 \\\\\nI-ORG &  0.0 &    2.0 &    2.0 &    0.0 &    0.0 &     0.0 \\\\\nI-PER &  0.0 &    0.0 &    0.0 &    1.0 &    1.0 &     0.0 \\\\\n\\bottomrule\n\\end{tabular}\n\n"
     ]
    }
   ],
   "source": [
    "#some additional tests\n",
    "\n",
    "test_args = ['../../data/archived_data/minigold.csv','gold','../../data/archived_data/miniout2.csv','NER','system2']\n",
    "system_info = create_system_information(test_args[2:])\n",
    "evaluations = run_evaluations(test_args[0], test_args[1], system_info)\n",
    "test_eval = identify_evaluation_value('system2', 'I-ORG', 'f-score', evaluations)\n",
    "assert_equal(\"%.3f\" % test_eval,\"0.571\")\n",
    "test_eval2 = identify_evaluation_value('system2', 'I-PER', 'precision', evaluations)\n",
    "assert_equal(\"%.3f\" % test_eval2,\"0.500\")\n",
    "test_eval3 = identify_evaluation_value('system2', 'I-ORG', 'recall', evaluations)\n",
    "assert_equal(\"%.3f\" % test_eval3,\"0.667\")"
   ]
  },
  {
   "cell_type": "code",
   "execution_count": 72,
   "metadata": {},
   "outputs": [],
   "source": [
    "def compare_outcome(label_set_1, label_set_2):\n",
    "    eval_counts = obtain_counts(label_set_1, label_set_2)\n",
    "\n",
    "    values = calculate_precision_recall_fscore(eval_counts)\n",
    "    values = pd.DataFrame.from_dict(values).fillna(0)\n",
    "    print(values.to_latex())\n",
    "\n",
    "    eval_counts = pd.DataFrame.from_dict(eval_counts).fillna(0)\n",
    "    print(eval_counts.to_latex())"
   ]
  },
  {
   "source": [
    "# Assignment 1 Evaluation"
   ],
   "cell_type": "markdown",
   "metadata": {}
  },
  {
   "cell_type": "code",
   "execution_count": 73,
   "metadata": {},
   "outputs": [],
   "source": [
    "# comparing gold w/ stanford & spacy\n",
    "\n",
    "# Loading data and extracting features\n",
    "gold = pd.read_csv('../../data/gold_stripped.conll', sep='\\t', header=None)\n",
    "spacy = pd.read_csv('../../data/spacy_out_matched_tokens-preprocessed.conll', sep='\\t', header=None)\n",
    "stanf = pd.read_csv('../../data/stanford_out_matched_tokens-preprocessed.conll', sep='\\t', header=None)\n",
    "gold_prep = pd.read_csv('../../data/gold_stripped-preprocessed.conll', sep='\\t', header=None)\n",
    "\n",
    "gold_out_actual = gold[7]\n",
    "spacy_out = spacy[2].replace(np.nan, 'O')\n",
    "stanf_out = stanf[3]\n",
    "gold_prep_out = gold_prep[3]"
   ]
  },
  {
   "cell_type": "code",
   "execution_count": 74,
   "metadata": {},
   "outputs": [
    {
     "output_type": "stream",
     "name": "stdout",
     "text": [
      "\\begin{tabular}{lrrrrrr}\n\\toprule\n{} &         O &       ORG &       LOC &      MISC &       PER &     macro \\\\\n\\midrule\nprecision &  0.968362 &  0.471852 &  0.764790 &  0.693193 &  0.830780 &  0.745795 \\\\\nrecall    &  0.975856 &  0.524857 &  0.765521 &  0.570189 &  0.741494 &  0.715583 \\\\\nf-score   &  0.972095 &  0.496945 &  0.765155 &  0.625703 &  0.783602 &  0.728700 \\\\\n\\bottomrule\n\\end{tabular}\n\n\\begin{tabular}{lrrrrr}\n\\toprule\n{} &      O &   ORG &   LOC &  MISC &   PER \\\\\n\\midrule\nPER  &    146 &   196 &    80 &    53 &  2332 \\\\\nO    &  41106 &   502 &   204 &   278 &   359 \\\\\nORG  &    620 &  1098 &   134 &   154 &   321 \\\\\nMISC &    140 &    73 &    73 &   723 &    34 \\\\\nLOC  &    111 &   223 &  1603 &    60 &    99 \\\\\n\\bottomrule\n\\end{tabular}\n\n"
     ]
    }
   ],
   "source": [
    "# Gold vs. Spacy\n",
    "compare_outcome(gold_prep_out, spacy_out)"
   ]
  },
  {
   "cell_type": "code",
   "execution_count": 75,
   "metadata": {},
   "outputs": [
    {
     "output_type": "stream",
     "name": "stdout",
     "text": [
      "\\begin{tabular}{lrrrrrr}\n\\toprule\n{} &         O &       ORG &       LOC &      MISC &       PER &     macro \\\\\n\\midrule\nprecision &  0.988773 &  0.906392 &  0.756153 &  0.938776 &  0.971456 &  0.912310 \\\\\nrecall    &  0.997294 &  0.860899 &  0.953677 &  0.362776 &  0.963116 &  0.827552 \\\\\nf-score   &  0.993015 &  0.883060 &  0.843506 &  0.523322 &  0.967268 &  0.842034 \\\\\n\\bottomrule\n\\end{tabular}\n\n\\begin{tabular}{lrrrrr}\n\\toprule\n{} &      O &   ORG &   LOC &  MISC &   PER \\\\\n\\midrule\nO    &  42009 &   149 &    50 &   211 &    67 \\\\\nLOC  &     22 &    84 &  1997 &   518 &    20 \\\\\nORG  &     67 &  1801 &    34 &    60 &    25 \\\\\nPER  &      9 &    54 &     7 &    19 &  3029 \\\\\nMISC &     16 &     4 &     6 &   460 &     4 \\\\\n\\bottomrule\n\\end{tabular}\n\n"
     ]
    }
   ],
   "source": [
    "# Gold vs. Stanford\n",
    "compare_outcome(gold_prep_out, stanf_out)"
   ]
  },
  {
   "source": [
    "# Assignment 2 Evaluation"
   ],
   "cell_type": "markdown",
   "metadata": {}
  },
  {
   "source": [
    "## Basic Features (No added features, same as Assignment1)"
   ],
   "cell_type": "markdown",
   "metadata": {}
  },
  {
   "cell_type": "code",
   "execution_count": 76,
   "metadata": {},
   "outputs": [
    {
     "output_type": "error",
     "ename": "FileNotFoundError",
     "evalue": "[Errno 2] File ../../data/out.logreg.conll does not exist: '../../data/out.logreg.conll'",
     "traceback": [
      "\u001b[0;31m---------------------------------------------------------------------------\u001b[0m",
      "\u001b[0;31mFileNotFoundError\u001b[0m                         Traceback (most recent call last)",
      "\u001b[0;32m<ipython-input-76-3a5b32795981>\u001b[0m in \u001b[0;36m<module>\u001b[0;34m\u001b[0m\n\u001b[1;32m      2\u001b[0m \u001b[0;34m\u001b[0m\u001b[0m\n\u001b[1;32m      3\u001b[0m \u001b[0;31m# Loading data and extracting features\u001b[0m\u001b[0;34m\u001b[0m\u001b[0;34m\u001b[0m\u001b[0;34m\u001b[0m\u001b[0m\n\u001b[0;32m----> 4\u001b[0;31m \u001b[0mlogreg\u001b[0m \u001b[0;34m=\u001b[0m \u001b[0mpd\u001b[0m\u001b[0;34m.\u001b[0m\u001b[0mread_csv\u001b[0m\u001b[0;34m(\u001b[0m\u001b[0;34m'../../data/out.logreg.conll'\u001b[0m\u001b[0;34m,\u001b[0m \u001b[0msep\u001b[0m\u001b[0;34m=\u001b[0m\u001b[0;34m'\\t'\u001b[0m\u001b[0;34m,\u001b[0m \u001b[0mheader\u001b[0m\u001b[0;34m=\u001b[0m\u001b[0;32mNone\u001b[0m\u001b[0;34m)\u001b[0m\u001b[0;34m\u001b[0m\u001b[0;34m\u001b[0m\u001b[0m\n\u001b[0m\u001b[1;32m      5\u001b[0m \u001b[0mNB\u001b[0m \u001b[0;34m=\u001b[0m \u001b[0mpd\u001b[0m\u001b[0;34m.\u001b[0m\u001b[0mread_csv\u001b[0m\u001b[0;34m(\u001b[0m\u001b[0;34m'../../data/out.NB.conll'\u001b[0m\u001b[0;34m,\u001b[0m \u001b[0msep\u001b[0m\u001b[0;34m=\u001b[0m\u001b[0;34m'\\t'\u001b[0m\u001b[0;34m,\u001b[0m \u001b[0mheader\u001b[0m\u001b[0;34m=\u001b[0m\u001b[0;32mNone\u001b[0m\u001b[0;34m)\u001b[0m\u001b[0;34m\u001b[0m\u001b[0;34m\u001b[0m\u001b[0m\n\u001b[1;32m      6\u001b[0m \u001b[0mSVM\u001b[0m \u001b[0;34m=\u001b[0m \u001b[0mpd\u001b[0m\u001b[0;34m.\u001b[0m\u001b[0mread_csv\u001b[0m\u001b[0;34m(\u001b[0m\u001b[0;34m'../../data/out.SVM.conll'\u001b[0m\u001b[0;34m,\u001b[0m \u001b[0msep\u001b[0m\u001b[0;34m=\u001b[0m\u001b[0;34m'\\t'\u001b[0m\u001b[0;34m,\u001b[0m \u001b[0mheader\u001b[0m\u001b[0;34m=\u001b[0m\u001b[0;32mNone\u001b[0m\u001b[0;34m)\u001b[0m\u001b[0;34m\u001b[0m\u001b[0;34m\u001b[0m\u001b[0m\n",
      "\u001b[0;32m/opt/anaconda3/lib/python3.7/site-packages/pandas/io/parsers.py\u001b[0m in \u001b[0;36mparser_f\u001b[0;34m(filepath_or_buffer, sep, delimiter, header, names, index_col, usecols, squeeze, prefix, mangle_dupe_cols, dtype, engine, converters, true_values, false_values, skipinitialspace, skiprows, skipfooter, nrows, na_values, keep_default_na, na_filter, verbose, skip_blank_lines, parse_dates, infer_datetime_format, keep_date_col, date_parser, dayfirst, cache_dates, iterator, chunksize, compression, thousands, decimal, lineterminator, quotechar, quoting, doublequote, escapechar, comment, encoding, dialect, error_bad_lines, warn_bad_lines, delim_whitespace, low_memory, memory_map, float_precision)\u001b[0m\n\u001b[1;32m    674\u001b[0m         )\n\u001b[1;32m    675\u001b[0m \u001b[0;34m\u001b[0m\u001b[0m\n\u001b[0;32m--> 676\u001b[0;31m         \u001b[0;32mreturn\u001b[0m \u001b[0m_read\u001b[0m\u001b[0;34m(\u001b[0m\u001b[0mfilepath_or_buffer\u001b[0m\u001b[0;34m,\u001b[0m \u001b[0mkwds\u001b[0m\u001b[0;34m)\u001b[0m\u001b[0;34m\u001b[0m\u001b[0;34m\u001b[0m\u001b[0m\n\u001b[0m\u001b[1;32m    677\u001b[0m \u001b[0;34m\u001b[0m\u001b[0m\n\u001b[1;32m    678\u001b[0m     \u001b[0mparser_f\u001b[0m\u001b[0;34m.\u001b[0m\u001b[0m__name__\u001b[0m \u001b[0;34m=\u001b[0m \u001b[0mname\u001b[0m\u001b[0;34m\u001b[0m\u001b[0;34m\u001b[0m\u001b[0m\n",
      "\u001b[0;32m/opt/anaconda3/lib/python3.7/site-packages/pandas/io/parsers.py\u001b[0m in \u001b[0;36m_read\u001b[0;34m(filepath_or_buffer, kwds)\u001b[0m\n\u001b[1;32m    446\u001b[0m \u001b[0;34m\u001b[0m\u001b[0m\n\u001b[1;32m    447\u001b[0m     \u001b[0;31m# Create the parser.\u001b[0m\u001b[0;34m\u001b[0m\u001b[0;34m\u001b[0m\u001b[0;34m\u001b[0m\u001b[0m\n\u001b[0;32m--> 448\u001b[0;31m     \u001b[0mparser\u001b[0m \u001b[0;34m=\u001b[0m \u001b[0mTextFileReader\u001b[0m\u001b[0;34m(\u001b[0m\u001b[0mfp_or_buf\u001b[0m\u001b[0;34m,\u001b[0m \u001b[0;34m**\u001b[0m\u001b[0mkwds\u001b[0m\u001b[0;34m)\u001b[0m\u001b[0;34m\u001b[0m\u001b[0;34m\u001b[0m\u001b[0m\n\u001b[0m\u001b[1;32m    449\u001b[0m \u001b[0;34m\u001b[0m\u001b[0m\n\u001b[1;32m    450\u001b[0m     \u001b[0;32mif\u001b[0m \u001b[0mchunksize\u001b[0m \u001b[0;32mor\u001b[0m \u001b[0miterator\u001b[0m\u001b[0;34m:\u001b[0m\u001b[0;34m\u001b[0m\u001b[0;34m\u001b[0m\u001b[0m\n",
      "\u001b[0;32m/opt/anaconda3/lib/python3.7/site-packages/pandas/io/parsers.py\u001b[0m in \u001b[0;36m__init__\u001b[0;34m(self, f, engine, **kwds)\u001b[0m\n\u001b[1;32m    878\u001b[0m             \u001b[0mself\u001b[0m\u001b[0;34m.\u001b[0m\u001b[0moptions\u001b[0m\u001b[0;34m[\u001b[0m\u001b[0;34m\"has_index_names\"\u001b[0m\u001b[0;34m]\u001b[0m \u001b[0;34m=\u001b[0m \u001b[0mkwds\u001b[0m\u001b[0;34m[\u001b[0m\u001b[0;34m\"has_index_names\"\u001b[0m\u001b[0;34m]\u001b[0m\u001b[0;34m\u001b[0m\u001b[0;34m\u001b[0m\u001b[0m\n\u001b[1;32m    879\u001b[0m \u001b[0;34m\u001b[0m\u001b[0m\n\u001b[0;32m--> 880\u001b[0;31m         \u001b[0mself\u001b[0m\u001b[0;34m.\u001b[0m\u001b[0m_make_engine\u001b[0m\u001b[0;34m(\u001b[0m\u001b[0mself\u001b[0m\u001b[0;34m.\u001b[0m\u001b[0mengine\u001b[0m\u001b[0;34m)\u001b[0m\u001b[0;34m\u001b[0m\u001b[0;34m\u001b[0m\u001b[0m\n\u001b[0m\u001b[1;32m    881\u001b[0m \u001b[0;34m\u001b[0m\u001b[0m\n\u001b[1;32m    882\u001b[0m     \u001b[0;32mdef\u001b[0m \u001b[0mclose\u001b[0m\u001b[0;34m(\u001b[0m\u001b[0mself\u001b[0m\u001b[0;34m)\u001b[0m\u001b[0;34m:\u001b[0m\u001b[0;34m\u001b[0m\u001b[0;34m\u001b[0m\u001b[0m\n",
      "\u001b[0;32m/opt/anaconda3/lib/python3.7/site-packages/pandas/io/parsers.py\u001b[0m in \u001b[0;36m_make_engine\u001b[0;34m(self, engine)\u001b[0m\n\u001b[1;32m   1112\u001b[0m     \u001b[0;32mdef\u001b[0m \u001b[0m_make_engine\u001b[0m\u001b[0;34m(\u001b[0m\u001b[0mself\u001b[0m\u001b[0;34m,\u001b[0m \u001b[0mengine\u001b[0m\u001b[0;34m=\u001b[0m\u001b[0;34m\"c\"\u001b[0m\u001b[0;34m)\u001b[0m\u001b[0;34m:\u001b[0m\u001b[0;34m\u001b[0m\u001b[0;34m\u001b[0m\u001b[0m\n\u001b[1;32m   1113\u001b[0m         \u001b[0;32mif\u001b[0m \u001b[0mengine\u001b[0m \u001b[0;34m==\u001b[0m \u001b[0;34m\"c\"\u001b[0m\u001b[0;34m:\u001b[0m\u001b[0;34m\u001b[0m\u001b[0;34m\u001b[0m\u001b[0m\n\u001b[0;32m-> 1114\u001b[0;31m             \u001b[0mself\u001b[0m\u001b[0;34m.\u001b[0m\u001b[0m_engine\u001b[0m \u001b[0;34m=\u001b[0m \u001b[0mCParserWrapper\u001b[0m\u001b[0;34m(\u001b[0m\u001b[0mself\u001b[0m\u001b[0;34m.\u001b[0m\u001b[0mf\u001b[0m\u001b[0;34m,\u001b[0m \u001b[0;34m**\u001b[0m\u001b[0mself\u001b[0m\u001b[0;34m.\u001b[0m\u001b[0moptions\u001b[0m\u001b[0;34m)\u001b[0m\u001b[0;34m\u001b[0m\u001b[0;34m\u001b[0m\u001b[0m\n\u001b[0m\u001b[1;32m   1115\u001b[0m         \u001b[0;32melse\u001b[0m\u001b[0;34m:\u001b[0m\u001b[0;34m\u001b[0m\u001b[0;34m\u001b[0m\u001b[0m\n\u001b[1;32m   1116\u001b[0m             \u001b[0;32mif\u001b[0m \u001b[0mengine\u001b[0m \u001b[0;34m==\u001b[0m \u001b[0;34m\"python\"\u001b[0m\u001b[0;34m:\u001b[0m\u001b[0;34m\u001b[0m\u001b[0;34m\u001b[0m\u001b[0m\n",
      "\u001b[0;32m/opt/anaconda3/lib/python3.7/site-packages/pandas/io/parsers.py\u001b[0m in \u001b[0;36m__init__\u001b[0;34m(self, src, **kwds)\u001b[0m\n\u001b[1;32m   1889\u001b[0m         \u001b[0mkwds\u001b[0m\u001b[0;34m[\u001b[0m\u001b[0;34m\"usecols\"\u001b[0m\u001b[0;34m]\u001b[0m \u001b[0;34m=\u001b[0m \u001b[0mself\u001b[0m\u001b[0;34m.\u001b[0m\u001b[0musecols\u001b[0m\u001b[0;34m\u001b[0m\u001b[0;34m\u001b[0m\u001b[0m\n\u001b[1;32m   1890\u001b[0m \u001b[0;34m\u001b[0m\u001b[0m\n\u001b[0;32m-> 1891\u001b[0;31m         \u001b[0mself\u001b[0m\u001b[0;34m.\u001b[0m\u001b[0m_reader\u001b[0m \u001b[0;34m=\u001b[0m \u001b[0mparsers\u001b[0m\u001b[0;34m.\u001b[0m\u001b[0mTextReader\u001b[0m\u001b[0;34m(\u001b[0m\u001b[0msrc\u001b[0m\u001b[0;34m,\u001b[0m \u001b[0;34m**\u001b[0m\u001b[0mkwds\u001b[0m\u001b[0;34m)\u001b[0m\u001b[0;34m\u001b[0m\u001b[0;34m\u001b[0m\u001b[0m\n\u001b[0m\u001b[1;32m   1892\u001b[0m         \u001b[0mself\u001b[0m\u001b[0;34m.\u001b[0m\u001b[0munnamed_cols\u001b[0m \u001b[0;34m=\u001b[0m \u001b[0mself\u001b[0m\u001b[0;34m.\u001b[0m\u001b[0m_reader\u001b[0m\u001b[0;34m.\u001b[0m\u001b[0munnamed_cols\u001b[0m\u001b[0;34m\u001b[0m\u001b[0;34m\u001b[0m\u001b[0m\n\u001b[1;32m   1893\u001b[0m \u001b[0;34m\u001b[0m\u001b[0m\n",
      "\u001b[0;32mpandas/_libs/parsers.pyx\u001b[0m in \u001b[0;36mpandas._libs.parsers.TextReader.__cinit__\u001b[0;34m()\u001b[0m\n",
      "\u001b[0;32mpandas/_libs/parsers.pyx\u001b[0m in \u001b[0;36mpandas._libs.parsers.TextReader._setup_parser_source\u001b[0;34m()\u001b[0m\n",
      "\u001b[0;31mFileNotFoundError\u001b[0m: [Errno 2] File ../../data/out.logreg.conll does not exist: '../../data/out.logreg.conll'"
     ]
    }
   ],
   "source": [
    "# comparing gold w/ stanford & spacy\n",
    "\n",
    "# Loading data and extracting features\n",
    "logreg = pd.read_csv('../../data/out.logreg.conll', sep='\\t', header=None)\n",
    "NB = pd.read_csv('../../data/out.NB.conll', sep='\\t', header=None)\n",
    "SVM = pd.read_csv('../../data/out.SVM.conll', sep='\\t', header=None)\n",
    "\n",
    "logreg_out = logreg[4]\n",
    "logreg_out_actual = logreg[3]\n",
    "nb_out = NB[4]\n",
    "nb_out_actual = NB[3]\n",
    "svm_out = SVM[4]\n",
    "svm_out_actual = SVM[3]"
   ]
  },
  {
   "cell_type": "code",
   "execution_count": 101,
   "metadata": {},
   "outputs": [
    {
     "output_type": "stream",
     "name": "stdout",
     "text": [
      "\\begin{tabular}{lrrrrrr}\n\\toprule\n{} &         O &     I-LOC &    I-MISC &     I-PER &     I-ORG &     macro \\\\\n\\midrule\nprecision &  0.998766 &  0.717765 &  0.625791 &  0.547854 &  0.521989 &  0.682433 \\\\\nrecall    &  0.934766 &  0.866282 &  0.901938 &  0.959354 &  0.838066 &  0.900081 \\\\\nf-score   &  0.965706 &  0.785061 &  0.738907 &  0.697430 &  0.643299 &  0.766081 \\\\\n\\bottomrule\n\\end{tabular}\n\n\\begin{tabular}{lrrrrr}\n\\toprule\n{} &      O &   I-LOC &  I-MISC &   I-PER &   I-ORG \\\\\n\\midrule\nO      &  42071 &     4.0 &      20 &     3.0 &    25.0 \\\\\nI-ORG  &    764 &   156.0 &      41 &    39.0 &  1092.0 \\\\\nI-LOC  &    412 &  1503.0 &      20 &    16.0 &   143.0 \\\\\nI-PER  &   1381 &    21.0 &       5 &  1723.0 &    15.0 \\\\\nI-MISC &    379 &    51.0 &     791 &    15.0 &    28.0 \\\\\nB-MISC &      1 &     0.0 &       3 &     0.0 &     0.0 \\\\\n\\bottomrule\n\\end{tabular}\n\n"
     ]
    }
   ],
   "source": [
    "compare_outcome(logreg_out, logreg_out_actual)"
   ]
  },
  {
   "cell_type": "code",
   "execution_count": 102,
   "metadata": {},
   "outputs": [
    {
     "output_type": "stream",
     "name": "stdout",
     "text": [
      "\\begin{tabular}{lrrrrrr}\n\\toprule\n{} &         O &     I-LOC &    I-MISC &     I-PER &     I-ORG &     macro \\\\\n\\midrule\nprecision &  0.999193 &  0.717765 &  0.571203 &  0.547218 &  0.583652 &  0.683806 \\\\\nrecall    &  0.936456 &  0.870295 &  0.931613 &  0.959309 &  0.826676 &  0.904870 \\\\\nf-score   &  0.966808 &  0.786705 &  0.708190 &  0.696902 &  0.684225 &  0.768566 \\\\\n\\bottomrule\n\\end{tabular}\n\n\\begin{tabular}{lrrrrr}\n\\toprule\n{} &      O &   I-LOC &  I-MISC &   I-PER &   I-ORG \\\\\n\\midrule\nO      &  42089 &     3.0 &      11 &     3.0 &    17.0 \\\\\nI-ORG  &    650 &   150.0 &      32 &    39.0 &  1221.0 \\\\\nI-LOC  &    411 &  1503.0 &       8 &    16.0 &   156.0 \\\\\nI-PER  &   1383 &    20.0 &       2 &  1721.0 &    19.0 \\\\\nI-MISC &    412 &    51.0 &     722 &    15.0 &    64.0 \\\\\nB-MISC &      2 &     0.0 &       2 &     0.0 &     0.0 \\\\\n\\bottomrule\n\\end{tabular}\n\n"
     ]
    }
   ],
   "source": [
    "compare_outcome(nb_out, nb_out_actual)"
   ]
  },
  {
   "cell_type": "code",
   "execution_count": 103,
   "metadata": {},
   "outputs": [
    {
     "output_type": "stream",
     "name": "stdout",
     "text": [
      "\\begin{tabular}{lrrrrrrr}\n\\toprule\n{} &         O &     I-LOC &    I-MISC &     I-PER &     I-ORG &  B-MISC &     macro \\\\\n\\midrule\nprecision &  0.998077 &  0.738777 &  0.681962 &  0.646423 &  0.644359 &     0.0 &  0.618266 \\\\\nrecall    &  0.950510 &  0.865213 &  0.898853 &  0.955357 &  0.834675 &     0.0 &  0.750768 \\\\\nf-score   &  0.973713 &  0.797012 &  0.775529 &  0.771098 &  0.727273 &     0.0 &  0.674104 \\\\\n\\bottomrule\n\\end{tabular}\n\n\\begin{tabular}{lrrrrrr}\n\\toprule\n{} &      O &   I-LOC &  I-MISC &   I-PER &   I-ORG &  B-MISC \\\\\n\\midrule\nO      &  42042 &     5.0 &      26 &     8.0 &    42.0 &     0.0 \\\\\nI-ORG  &    491 &   162.0 &      42 &    49.0 &  1348.0 &     0.0 \\\\\nI-PER  &   1064 &    23.0 &       5 &  2033.0 &    20.0 &     0.0 \\\\\nI-MISC &    285 &    51.0 &     862 &    17.0 &    48.0 &     1.0 \\\\\nI-LOC  &    348 &  1547.0 &      21 &    21.0 &   157.0 &     0.0 \\\\\nB-MISC &      1 &     0.0 &       3 &     0.0 &     0.0 &     0.0 \\\\\n\\bottomrule\n\\end{tabular}\n\n"
     ]
    }
   ],
   "source": [
    "compare_outcome(svm_out, svm_out_actual)"
   ]
  },
  {
   "source": [
    "## With Added Features"
   ],
   "cell_type": "markdown",
   "metadata": {}
  },
  {
   "source": [
    "# comparing gold w/ stanford & spacy\n",
    "\n",
    "# Loading data and extracting features\n",
    "logreg = pd.read_csv('../../data/out_added_feats.logreg.conll', sep='\\t', header=None)\n",
    "NB = pd.read_csv('../../data/out_added_feats.NB.conll', sep='\\t', header=None)\n",
    "SVM = pd.read_csv('../../data/out_added_feats.SVM.conll', sep='\\t', header=None)\n",
    "\n",
    "logreg_out = logreg[4]\n",
    "logreg_out_actual = logreg[3]\n",
    "nb_out = NB[4]\n",
    "nb_out_actual = NB[3]\n",
    "svm_out = SVM[4]\n",
    "svm_out_actual = SVM[3]"
   ],
   "cell_type": "code",
   "metadata": {},
   "execution_count": 104,
   "outputs": []
  },
  {
   "cell_type": "code",
   "execution_count": 105,
   "metadata": {},
   "outputs": [
    {
     "output_type": "stream",
     "name": "stdout",
     "text": [
      "\\begin{tabular}{lrrrrrr}\n\\toprule\n{} &         O &     I-ORG &     I-LOC &     I-PER &    I-MISC &     macro \\\\\n\\midrule\nprecision &  0.993733 &  0.720363 &  0.831423 &  0.920191 &  0.682753 &  0.829693 \\\\\nrecall    &  0.987031 &  0.760727 &  0.860178 &  0.861310 &  0.914195 &  0.876688 \\\\\nf-score   &  0.990371 &  0.739995 &  0.845556 &  0.889777 &  0.781703 &  0.849480 \\\\\n\\bottomrule\n\\end{tabular}\n\n\\begin{tabular}{lrrrrr}\n\\toprule\n{} &        O &   I-ORG &   I-LOC &  I-PER &  I-MISC \\\\\n\\midrule\nO      &  41859.0 &   159.0 &    16.0 &     64 &      25 \\\\\nI-PER  &    126.0 &    68.0 &    54.0 &   2894 &       3 \\\\\nI-ORG  &    183.0 &  1507.0 &   161.0 &    212 &      29 \\\\\nI-MISC &    172.0 &   107.0 &    52.0 &     70 &     863 \\\\\nI-LOC  &     69.0 &   140.0 &  1741.0 &    120 &      24 \\\\\nB-MISC &      0.0 &     0.0 &     0.0 &      1 &       3 \\\\\n\\bottomrule\n\\end{tabular}\n\n"
     ]
    }
   ],
   "source": [
    "compare_outcome(logreg_out, logreg_out_actual)"
   ]
  },
  {
   "cell_type": "code",
   "execution_count": 106,
   "metadata": {},
   "outputs": [
    {
     "output_type": "stream",
     "name": "stdout",
     "text": [
      "\\begin{tabular}{lrrrrrr}\n\\toprule\n{} &     I-PER &         O &     I-ORG &     I-LOC &    I-MISC &     macro \\\\\n\\midrule\nprecision &  0.917647 &  0.985091 &  0.708413 &  0.820439 &  0.564873 &  0.799293 \\\\\nrecall    &  0.791552 &  0.985512 &  0.709430 &  0.808090 &  0.949468 &  0.848811 \\\\\nf-score   &  0.849948 &  0.985302 &  0.708921 &  0.814218 &  0.708333 &  0.813345 \\\\\n\\bottomrule\n\\end{tabular}\n\n\\begin{tabular}{lrrrrr}\n\\toprule\n{} &  I-PER &        O &  I-ORG &   I-LOC &  I-MISC \\\\\n\\midrule\nO      &    304 &  41495.0 &    217 &    93.0 &      14 \\\\\nI-ORG  &    199 &    228.0 &   1482 &   171.0 &      12 \\\\\nI-PER  &   2886 &    116.0 &     72 &    67.0 &       4 \\\\\nI-LOC  &    137 &     96.0 &    135 &  1718.0 &       8 \\\\\nI-MISC &    120 &    170.0 &    183 &    77.0 &     714 \\\\\nB-MISC &      1 &      0.0 &      1 &     0.0 &       2 \\\\\n\\bottomrule\n\\end{tabular}\n\n"
     ]
    }
   ],
   "source": [
    "compare_outcome(nb_out, nb_out_actual)"
   ]
  },
  {
   "cell_type": "code",
   "execution_count": 107,
   "metadata": {},
   "outputs": [
    {
     "output_type": "stream",
     "name": "stdout",
     "text": [
      "\\begin{tabular}{lrrrrrr}\n\\toprule\n{} &         O &     I-ORG &     I-LOC &     I-PER &    I-MISC &     macro \\\\\n\\midrule\nprecision &  0.993851 &  0.716061 &  0.819007 &  0.925278 &  0.687500 &  0.828339 \\\\\nrecall    &  0.991380 &  0.758481 &  0.868794 &  0.818796 &  0.880446 &  0.863579 \\\\\nf-score   &  0.992614 &  0.736661 &  0.843166 &  0.868786 &  0.772101 &  0.842666 \\\\\n\\bottomrule\n\\end{tabular}\n\n\\begin{tabular}{lrrrrr}\n\\toprule\n{} &        O &   I-ORG &   I-LOC &  I-PER &  I-MISC \\\\\n\\midrule\nO      &  41864.0 &   110.0 &    18.0 &     85 &      46 \\\\\nI-PER  &     94.0 &    72.0 &    50.0 &   2910 &      19 \\\\\nI-ORG  &    118.0 &  1498.0 &   145.0 &    303 &      28 \\\\\nI-MISC &    101.0 &   142.0 &    46.0 &    106 &     869 \\\\\nI-LOC  &     51.0 &   153.0 &  1715.0 &    150 &      25 \\\\\nB-MISC &      0.0 &     0.0 &     0.0 &      1 &       3 \\\\\n\\bottomrule\n\\end{tabular}\n\n"
     ]
    }
   ],
   "source": [
    "compare_outcome(svm_out, svm_out_actual)"
   ]
  },
  {
   "source": [
    "## With Embeddings"
   ],
   "cell_type": "markdown",
   "metadata": {}
  },
  {
   "cell_type": "code",
   "execution_count": 108,
   "metadata": {},
   "outputs": [],
   "source": [
    "# comparing gold w/ stanford & spacy\n",
    "\n",
    "# Loading data and extracting features\n",
    "logreg = pd.read_csv('../../data/out_word2vec.logreg.conll', sep='\\t', header=None)\n",
    "NB = pd.read_csv('../../data/out_word2vec.NB.conll', sep='\\t', header=None)\n",
    "SVM = pd.read_csv('../../data/out_word2vec.SVM.conll', sep='\\t', header=None)\n",
    "\n",
    "logreg_out = logreg[4]\n",
    "logreg_out_actual = logreg[3]\n",
    "nb_out = NB[4]\n",
    "nb_out_actual = NB[3]\n",
    "svm_out = SVM[4]\n",
    "svm_out_actual = SVM[3]"
   ]
  },
  {
   "cell_type": "code",
   "execution_count": 109,
   "metadata": {},
   "outputs": [
    {
     "output_type": "stream",
     "name": "stdout",
     "text": [
      "\\begin{tabular}{lrrrrrr}\n\\toprule\n{} &         O &     I-LOC &    I-MISC &     I-PER &     I-ORG &     macro \\\\\n\\midrule\nprecision &  0.999193 &  0.717765 &  0.571203 &  0.547218 &  0.583652 &  0.683806 \\\\\nrecall    &  0.936456 &  0.870295 &  0.931613 &  0.959309 &  0.826676 &  0.904870 \\\\\nf-score   &  0.966808 &  0.786705 &  0.708190 &  0.696902 &  0.684225 &  0.768566 \\\\\n\\bottomrule\n\\end{tabular}\n\n\\begin{tabular}{lrrrrr}\n\\toprule\n{} &      O &   I-LOC &  I-MISC &   I-PER &   I-ORG \\\\\n\\midrule\nO      &  42089 &     3.0 &      11 &     3.0 &    17.0 \\\\\nI-ORG  &    650 &   150.0 &      32 &    39.0 &  1221.0 \\\\\nI-LOC  &    411 &  1503.0 &       8 &    16.0 &   156.0 \\\\\nI-PER  &   1383 &    20.0 &       2 &  1721.0 &    19.0 \\\\\nI-MISC &    412 &    51.0 &     722 &    15.0 &    64.0 \\\\\nB-MISC &      2 &     0.0 &       2 &     0.0 &     0.0 \\\\\n\\bottomrule\n\\end{tabular}\n\n"
     ]
    }
   ],
   "source": [
    "compare_outcome(nb_out, nb_out_actual)"
   ]
  },
  {
   "cell_type": "code",
   "execution_count": 110,
   "metadata": {},
   "outputs": [
    {
     "output_type": "stream",
     "name": "stdout",
     "text": [
      "\\begin{tabular}{lrrrrrr}\n\\toprule\n{} &         O &     I-LOC &    I-MISC &     I-PER &     I-ORG &     macro \\\\\n\\midrule\nprecision &  0.998766 &  0.717765 &  0.625791 &  0.547854 &  0.521989 &  0.682433 \\\\\nrecall    &  0.934766 &  0.866282 &  0.901938 &  0.959354 &  0.838066 &  0.900081 \\\\\nf-score   &  0.965706 &  0.785061 &  0.738907 &  0.697430 &  0.643299 &  0.766081 \\\\\n\\bottomrule\n\\end{tabular}\n\n\\begin{tabular}{lrrrrr}\n\\toprule\n{} &      O &   I-LOC &  I-MISC &   I-PER &   I-ORG \\\\\n\\midrule\nO      &  42071 &     4.0 &      20 &     3.0 &    25.0 \\\\\nI-ORG  &    764 &   156.0 &      41 &    39.0 &  1092.0 \\\\\nI-LOC  &    412 &  1503.0 &      20 &    16.0 &   143.0 \\\\\nI-PER  &   1381 &    21.0 &       5 &  1723.0 &    15.0 \\\\\nI-MISC &    379 &    51.0 &     791 &    15.0 &    28.0 \\\\\nB-MISC &      1 &     0.0 &       3 &     0.0 &     0.0 \\\\\n\\bottomrule\n\\end{tabular}\n\n"
     ]
    }
   ],
   "source": [
    "compare_outcome(logreg_out, logreg_out_actual)"
   ]
  },
  {
   "cell_type": "code",
   "execution_count": 111,
   "metadata": {},
   "outputs": [
    {
     "output_type": "stream",
     "name": "stdout",
     "text": [
      "\\begin{tabular}{lrrrrrr}\n\\toprule\n{} &         O &     I-ORG &     I-LOC &    I-MISC &     I-PER &     macro \\\\\n\\midrule\nprecision &  0.998457 &  0.811185 &  0.903534 &  0.805380 &  0.917965 &  0.887304 \\\\\nrecall    &  0.985011 &  0.916802 &  0.905263 &  0.926297 &  0.968792 &  0.940433 \\\\\nf-score   &  0.991688 &  0.860766 &  0.904398 &  0.861617 &  0.942694 &  0.912232 \\\\\n\\bottomrule\n\\end{tabular}\n\n\\begin{tabular}{lrrrrr}\n\\toprule\n{} &        O &   I-ORG &   I-LOC &  I-MISC &   I-PER \\\\\n\\midrule\nO      &  42058.0 &    23.0 &     4.0 &      29 &     9.0 \\\\\nI-MISC &    140.0 &    26.0 &    60.0 &    1018 &    20.0 \\\\\nI-LOC  &     66.0 &    97.0 &  1892.0 &      10 &    29.0 \\\\\nI-PER  &    245.0 &     8.0 &     2.0 &       3 &  2887.0 \\\\\nI-ORG  &    189.0 &  1697.0 &   132.0 &      39 &    35.0 \\\\\nB-MISC &      0.0 &     0.0 &     0.0 &       4 &     0.0 \\\\\n\\bottomrule\n\\end{tabular}\n\n"
     ]
    }
   ],
   "source": [
    "compare_outcome(svm_out, svm_out_actual)"
   ]
  },
  {
   "source": [
    "## Word embeddings + added features"
   ],
   "cell_type": "markdown",
   "metadata": {}
  },
  {
   "cell_type": "code",
   "execution_count": 112,
   "metadata": {},
   "outputs": [],
   "source": [
    "# comparing gold w/ stanford & spacy\n",
    "\n",
    "# Loading data and extracting features\n",
    "logreg = pd.read_csv('../../data/out_word2vec_added_feats.logreg.conll', sep='\\t', header=None)\n",
    "NB = pd.read_csv('../../data/out_word2vec_added_feats.NB.conll', sep='\\t', header=None)\n",
    "SVM = pd.read_csv('../../data/out_word2vec_added_feats.SVM.conll', sep='\\t', header=None)\n",
    "\n",
    "logreg_out = logreg[4]\n",
    "logreg_out_actual = logreg[3]\n",
    "nb_out = NB[4]\n",
    "nb_out_actual = NB[3]\n",
    "svm_out = SVM[4]\n",
    "svm_out_actual = SVM[3]"
   ]
  },
  {
   "cell_type": "code",
   "execution_count": 113,
   "metadata": {},
   "outputs": [
    {
     "output_type": "stream",
     "name": "stdout",
     "text": [
      "\\begin{tabular}{lrrrrrr}\n",
      "\\toprule\n",
      "{} &         O &     I-PER &     I-LOC &    I-MISC &     I-ORG &     macro \\\\\n",
      "\\midrule\n",
      "precision &  0.991264 &  0.938633 &  0.730659 &  0.652690 &  0.618069 &  0.786263 \\\\\n",
      "recall    &  0.983813 &  0.731780 &  0.869812 &  0.923852 &  0.813208 &  0.864493 \\\\\n",
      "f-score   &  0.987524 &  0.822399 &  0.794186 &  0.764951 &  0.702336 &  0.814279 \\\\\n",
      "\\bottomrule\n",
      "\\end{tabular}\n",
      "\n",
      "\\begin{tabular}{lrrrrr}\n",
      "\\toprule\n",
      "{} &        O &   I-PER &   I-LOC &  I-MISC &  I-ORG \\\\\n",
      "\\midrule\n",
      "O      &  41755.0 &   304.0 &     2.0 &      17 &     45 \\\\\n",
      "I-PER  &    135.0 &  2952.0 &    22.0 &       5 &     31 \\\\\n",
      "I-ORG  &    280.0 &   329.0 &   162.0 &      28 &   1293 \\\\\n",
      "I-MISC &    184.0 &   143.0 &    43.0 &     825 &     69 \\\\\n",
      "I-LOC  &     88.0 &   306.0 &  1530.0 &      18 &    152 \\\\\n",
      "B-MISC &      0.0 &     0.0 &     0.0 &       3 &      1 \\\\\n",
      "\\bottomrule\n",
      "\\end{tabular}\n",
      "\n",
      "\\begin{tabular}{lrrrrrr}\n",
      "\\toprule\n",
      "{} &         O &     I-PER &     I-LOC &    I-MISC &     I-ORG &     macro \\\\\n",
      "\\midrule\n",
      "precision &  0.987347 &  0.930048 &  0.754537 &  0.582278 &  0.621415 &  0.775125 \\\\\n",
      "recall    &  0.981892 &  0.716034 &  0.881205 &  0.939974 &  0.764706 &  0.856762 \\\\\n",
      "f-score   &  0.984612 &  0.809129 &  0.812966 &  0.719101 &  0.685654 &  0.802292 \\\\\n",
      "\\bottomrule\n",
      "\\end{tabular}\n",
      "\n",
      "\\begin{tabular}{lrrrrr}\n",
      "\\toprule\n",
      "{} &        O &  I-PER &   I-LOC &  I-MISC &  I-ORG \\\\\n",
      "\\midrule\n",
      "O      &  41590.0 &    433 &     2.0 &      16 &     82 \\\\\n",
      "I-PER  &    151.0 &   2925 &    24.0 &       4 &     41 \\\\\n",
      "I-ORG  &    301.0 &    332 &   140.0 &      19 &   1300 \\\\\n",
      "I-MISC &    182.0 &    185 &    47.0 &     736 &    114 \\\\\n",
      "I-LOC  &    133.0 &    210 &  1580.0 &       8 &    163 \\\\\n",
      "B-MISC &      0.0 &      2 &     0.0 &       1 &      1 \\\\\n",
      "\\bottomrule\n",
      "\\end{tabular}\n",
      "\n",
      "\\begin{tabular}{lrrrrrr}\n",
      "\\toprule\n",
      "{} &         O &     I-PER &     I-LOC &    I-MISC &     I-ORG &     macro \\\\\n",
      "\\midrule\n",
      "precision &  0.990979 &  0.937043 &  0.733047 &  0.655063 &  0.631453 &  0.789517 \\\\\n",
      "recall    &  0.985179 &  0.726041 &  0.874644 &  0.934537 &  0.802064 &  0.864493 \\\\\n",
      "f-score   &  0.988070 &  0.818157 &  0.797610 &  0.770233 &  0.706606 &  0.816135 \\\\\n",
      "\\bottomrule\n",
      "\\end{tabular}\n",
      "\n",
      "\\begin{tabular}{lrrrrr}\n",
      "\\toprule\n",
      "{} &        O &   I-PER &   I-LOC &  I-MISC &  I-ORG \\\\\n",
      "\\midrule\n",
      "O      &  41743.0 &   313.0 &     2.0 &      17 &     48 \\\\\n",
      "I-PER  &    133.0 &  2947.0 &    22.0 &       5 &     38 \\\\\n",
      "I-ORG  &    242.0 &   348.0 &   156.0 &      25 &   1321 \\\\\n",
      "I-MISC &    175.0 &   142.0 &    40.0 &     828 &     79 \\\\\n",
      "I-LOC  &     78.0 &   309.0 &  1535.0 &      11 &    161 \\\\\n",
      "B-MISC &      0.0 &     0.0 &     0.0 &       3 &      1 \\\\\n",
      "\\bottomrule\n",
      "\\end{tabular}\n",
      "\n"
     ]
    }
   ],
   "source": [
    "compare_outcome(logreg_out, logreg_out_actual)\n",
    "compare_outcome(nb_out, nb_out_actual)\n",
    "compare_outcome(svm_out, svm_out_actual)"
   ]
  }
 ],
 "metadata": {
  "kernelspec": {
   "name": "python3",
   "display_name": "Python 3"
  },
  "language_info": {
   "codemirror_mode": {
    "name": "ipython",
    "version": 3
   },
   "file_extension": ".py",
   "mimetype": "text/x-python",
   "name": "python",
   "nbconvert_exporter": "python",
   "pygments_lexer": "ipython3",
   "version": "3.7.6-final"
  }
 },
 "nbformat": 4,
 "nbformat_minor": 4
}