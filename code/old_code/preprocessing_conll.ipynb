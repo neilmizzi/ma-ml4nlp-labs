{
 "cells": [
  {
   "cell_type": "markdown",
   "metadata": {},
   "source": [
    "# Preprocessing Files\n",
    "\n",
    "Different sources and tools may make use of different formats to represent information and the output of various tools may not directly correspond. In this course, we will mainly (or even exclusively) work with the conll format. Even within this format, there may be differences in tokenization, class labels used or in the number of columns provided in the output. Depending on what the difference is exactly, you may want to adapt input files or build scripts that can deal with such differences during the process.\n",
    "In this case, we are preparing files that present output of two different tools for evaluation, where the exact annotation scheme differs. We set this up so you can first convert the files, so that they match and then can run evaluation (covered in a different notebook). Originally, both systems had a different tokenization and they both differed from the tokenization used in training and evaluation data. The steps of making sure that the tokens align have already been taken. We left some of the basic functions used as part of this process (e.g. the verification whether tokens align) as an example."
   ]
  },
  {
   "cell_type": "code",
   "execution_count": null,
   "metadata": {},
   "outputs": [],
   "source": [
    "import csv\n",
    "# csv is a useful package to deal with comma or tab separated values (such as conll). \n",
    "# It does not have quite the same functionality as pandas, but is easier to work with\n",
    "import collections"
   ]
  },
  {
   "cell_type": "code",
   "execution_count": null,
   "metadata": {},
   "outputs": [],
   "source": [
    "def matching_tokens(conll1, conll2):\n",
    "    '''\n",
    "    Check whether the tokens of two conll files are aligned\n",
    "    \n",
    "    :param conll1: tokens (or full annotations) from the first conll file\n",
    "    :param conll2: tokens (or full annotations) from the first conll file\n",
    "    \n",
    "    :returns boolean indicating whether tokens match or not\n",
    "    '''\n",
    "    for row in conll1:\n",
    "        row2 = next(conll2)\n",
    "        if row[0] != row2[0]:\n",
    "            return False\n",
    "    \n",
    "    return True"
   ]
  },
  {
   "cell_type": "code",
   "execution_count": null,
   "metadata": {},
   "outputs": [],
   "source": [
    "def read_in_conll_file(conll_file, delimiter='\\t'):\n",
    "    '''\n",
    "    Read in conll file and return structured object\n",
    "    \n",
    "    :param conll_file: path to conll_file\n",
    "    :param delimiter: specifies how columns are separated. Tabs are standard in conll\n",
    "    \n",
    "    :returns structured representation of information included in conll file\n",
    "    '''\n",
    "    my_conll = open(conll_file, 'r')\n",
    "    conll_as_csvreader = csv.reader(my_conll, delimiter=delimiter)\n",
    "    return conll_as_csvreader"
   ]
  },
  {
   "cell_type": "code",
   "execution_count": null,
   "metadata": {},
   "outputs": [],
   "source": [
    "def alignment_okay(conll1, conll2):\n",
    "    '''\n",
    "    Read in two conll files and see if their tokens align\n",
    "    '''\n",
    "    my_first_conll = read_in_conll_file(conll1)\n",
    "    my_second_conll = read_in_conll_file(conll2)\n",
    "    \n",
    "    return matching_tokens(my_first_conll, my_second_conll)\n",
    "    \n",
    "    "
   ]
  },
  {
   "cell_type": "code",
   "execution_count": null,
   "metadata": {},
   "outputs": [],
   "source": [
    "def get_predefined_conversions(conversion_file):\n",
    "    '''\n",
    "    Read in file with predefined conversions and return structured object that maps old annotation to new annotation\n",
    "    \n",
    "    :param conversion_file: path to conversion file\n",
    "    \n",
    "    :returns object that maps old annotations to new ones\n",
    "    '''\n",
    "    conversion_dict = {}\n",
    "    my_conversions = open(conversion_file, 'r')\n",
    "    conversion_reader = csv.reader(my_conversions, delimiter='\\t')\n",
    "    for row in conversion_reader:\n",
    "        conversion_dict[row[0]] = row[1]\n",
    "    return conversion_dict"
   ]
  },
  {
   "cell_type": "code",
   "execution_count": null,
   "metadata": {},
   "outputs": [],
   "source": [
    "def create_converted_output(conll_object, annotation_identifier, conversions, outputfilename):\n",
    "    '''\n",
    "    Check which annotations need to be converted for the output to match and convert them\n",
    "    \n",
    "    :param conll_object: structured object with conll annotations\n",
    "    :param annotation_identifier: indicator of how to find the annotations in the object (e.g. key of dictionary, index of list)\n",
    "    :param conversions: pointer to the conversions that apply. This can be external (e.g. a local file with conversions) or internal (e.g. prestructured dictionary). In case of an internal object, you probably want to add a function that creates this from a local file.\n",
    "    \n",
    "    '''\n",
    "    with open(outputfilename, 'w') as outputcsv:\n",
    "        csvwriter = csv.writer(outputcsv, delimiter='\\t')\n",
    "        for row in conll_object:\n",
    "            annotation = row[annotation_identifier]\n",
    "            if annotation in conversions:\n",
    "                row[annotation_identifier] = conversions.get(annotation)\n",
    "            csvwriter.writerow(row)"
   ]
  },
  {
   "cell_type": "code",
   "execution_count": null,
   "metadata": {},
   "outputs": [],
   "source": [
    "def write_out(conll_object, outputfilename):\n",
    "    '''\n",
    "    Write out (updated) conll object to an output file\n",
    "    \n",
    "    :param conll_object: the (updated) conll object\n",
    "    :param outputfilename: path to the output file\n",
    "    '''\n",
    "    with open(outputfilename, 'w') as outputcsv:\n",
    "        csvwriter = csv.writer(outputcsv, delimiter='\\t')\n",
    "        for row in conll_object:\n",
    "            print('row')\n",
    "            csvwriter.writerow(row)"
   ]
  },
  {
   "cell_type": "code",
   "execution_count": null,
   "metadata": {},
   "outputs": [],
   "source": [
    "def preprocess_files(conll1, conll2, column_identifiers, conversions):\n",
    "    '''\n",
    "    Guides the full process of preprocessing files and outputs the modified files.\n",
    "    \n",
    "    :param conll1: path to the first conll input file\n",
    "    :param conll2: path to the second conll input file\n",
    "    :param column_identifiers: object providing the identifiers for target column\n",
    "    :param conversions: path to a file that defines conversions\n",
    "    '''\n",
    "    if alignment_okay(conll1, conll2):\n",
    "        conversions = get_predefined_conversions(conversions)\n",
    "        my_first_conll = read_in_conll_file(conll1)\n",
    "        my_second_conll = read_in_conll_file(conll2)\n",
    "        create_converted_output(my_first_conll, column_identifiers[0], conversions, conll1.replace('.conll','-preprocessed.conll'))\n",
    "        create_converted_output(my_second_conll, column_identifiers[1], conversions, conll2.replace('.conll','-preprocessed.conll'))\n",
    "        #converted_conll1 = convert_annotations(my_first_conll, column_identifiers[0], conversions)\n",
    "        #converted_conll2 = convert_annotations(my_second_conll, column_identifiers[1], conversions)\n",
    "        #write_out(converted_conll1, conll1.replace('.conll','-preprocessed.conll'))\n",
    "        #write_out(converted_conll2, conll2.replace('.conll','-preprocessed.conll'))\n",
    "    else:\n",
    "        print(conll1, conll2, 'do not align')"
   ]
  },
  {
   "cell_type": "code",
   "execution_count": null,
   "metadata": {},
   "outputs": [],
   "source": [
    "preprocess_files('../data/spacy_out_matched_tokens.conll','../data/gold_stripped-preprocessed.conll', [2,3],'settings/conversions.tsv')\n",
    "\n",
    "preprocess_files('../data/stanford_out_matched_tokens.conll','../data/gold_stripped-preprocessed.conll', [3,3],'settings/conversions.tsv')"
   ]
  },
  {
   "cell_type": "code",
   "execution_count": null,
   "metadata": {},
   "outputs": [],
   "source": []
  }
 ],
 "metadata": {
  "kernelspec": {
   "display_name": "Python 3",
   "language": "python",
   "name": "python3"
  },
  "language_info": {
   "codemirror_mode": {
    "name": "ipython",
    "version": 3
   },
   "file_extension": ".py",
   "mimetype": "text/x-python",
   "name": "python",
   "nbconvert_exporter": "python",
   "pygments_lexer": "ipython3",
   "version": "3.7.6-final"
  }
 },
 "nbformat": 4,
 "nbformat_minor": 4
}